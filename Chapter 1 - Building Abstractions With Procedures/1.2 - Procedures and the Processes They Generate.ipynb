{
 "cells": [
  {
   "cell_type": "code",
   "execution_count": 1,
   "metadata": {
    "collapsed": false,
    "deletable": true,
    "editable": true
   },
   "outputs": [
    {
     "data": {
      "text/plain": [
       "720"
      ]
     },
     "execution_count": 1,
     "metadata": {},
     "output_type": "execute_result"
    }
   ],
   "source": [
    ";; recursive process\n",
    ";;\n",
    ";; we need from the start to the end of the process to build a big sum\n",
    ";; which we reduce before returning the result, so a call like (factorial 4) \n",
    ";; will recurse until it produces the following calculation:\n",
    ";;\n",
    ";;     (* 4 (* 3 (* 2 1)))\n",
    "(define (factorial n)\n",
    "  (if (= n 1) \n",
    "      1\n",
    "      (* n (factorial (- n 1)))))\n",
    "\n",
    "(factorial 6)"
   ]
  },
  {
   "cell_type": "code",
   "execution_count": 2,
   "metadata": {
    "collapsed": false,
    "deletable": true,
    "editable": true
   },
   "outputs": [
    {
     "data": {
      "text/plain": [
       "720"
      ]
     },
     "execution_count": 2,
     "metadata": {},
     "output_type": "execute_result"
    }
   ],
   "source": [
    ";; iterative process\n",
    ";; \n",
    ";; note that even though the procedure itself is recursive, we call\n",
    ";; the process iterative - the state of the calculation is captured\n",
    ";; in the arguments to the \"fact-iter\" function, and can be cached\n",
    ";; or resumed to produce the desired result.\n",
    "\n",
    "(define (factorial n)\n",
    "  (fact-iter 1 1 n))\n",
    "\n",
    "(define (fact-iter product counter max-count)\n",
    "    (if (> counter max-count)\n",
    "        product\n",
    "        (fact-iter (* product counter) \n",
    "                   (+ counter 1) \n",
    "                   max-count)))\n",
    "\n",
    "(factorial 6)"
   ]
  },
  {
   "cell_type": "code",
   "execution_count": null,
   "metadata": {
    "collapsed": false,
    "deletable": true,
    "editable": true
   },
   "outputs": [],
   "source": [
    " "
   ]
  },
  {
   "cell_type": "code",
   "execution_count": 3,
   "metadata": {
    "collapsed": false,
    "deletable": true,
    "editable": true
   },
   "outputs": [
    {
     "data": {
      "text/plain": [
       "1024"
      ]
     },
     "execution_count": 3,
     "metadata": {},
     "output_type": "execute_result"
    }
   ],
   "source": [
    "(A 1 10)"
   ]
  },
  {
   "cell_type": "code",
   "execution_count": 4,
   "metadata": {
    "collapsed": false,
    "deletable": true,
    "editable": true
   },
   "outputs": [
    {
     "data": {
      "text/plain": [
       "65536"
      ]
     },
     "execution_count": 4,
     "metadata": {},
     "output_type": "execute_result"
    }
   ],
   "source": [
    "(A 2 4)"
   ]
  },
  {
   "cell_type": "code",
   "execution_count": 5,
   "metadata": {
    "collapsed": false,
    "deletable": true,
    "editable": true
   },
   "outputs": [
    {
     "data": {
      "text/plain": [
       "65536"
      ]
     },
     "execution_count": 5,
     "metadata": {},
     "output_type": "execute_result"
    }
   ],
   "source": [
    "(A 3 3)"
   ]
  },
  {
   "cell_type": "code",
   "execution_count": null,
   "metadata": {
    "collapsed": false,
    "deletable": true,
    "editable": true
   },
   "outputs": [],
   "source": [
    "(define (h n) (A 2 n))\n",
    "\n",
    "(h 0)"
   ]
  },
  {
   "cell_type": "code",
   "execution_count": null,
   "metadata": {
    "collapsed": true
   },
   "outputs": [],
   "source": [
    ";; fibonacci sequence\n",
    "\n",
    ";; bad implementation, for obvious reasons\n",
    "(define (fib-bad n)\n",
    "  (cond ((= n 0) 0)\n",
    "        ((= n 1) 1)\n",
    "        (else (+ (fib (- n 1)\n",
    "                      (- n 2))))))\n",
    "\n",
    ";; better implementation\n",
    "(define (fib-iter a b count)\n",
    "  (if (= 0 count) \n",
    "      a\n",
    "      (fib-iter b (+ a b) (- count 1))))\n",
    "\n",
    "(define (fib-better n)\n",
    "  (fib-iter 0 1 n))\n",
    "\n"
   ]
  }
 ],
 "metadata": {
  "kernelspec": {
   "display_name": "MIT Scheme",
   "language": "scheme",
   "name": "mit-scheme"
  },
  "language_info": {
   "codemirror_mode": "scheme",
   "file_extension": ".scm",
   "mimetype": "application/x-scheme",
   "name": "MIT Scheme",
   "pygments_lexer": "scheme",
   "version": "9.2.1"
  }
 },
 "nbformat": 4,
 "nbformat_minor": 2
}
