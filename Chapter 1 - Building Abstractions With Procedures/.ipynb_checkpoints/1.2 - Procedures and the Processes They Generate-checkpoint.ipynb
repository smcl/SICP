{
 "cells": [
  {
   "cell_type": "code",
   "execution_count": 1,
   "metadata": {
    "collapsed": false,
    "deletable": true,
    "editable": true
   },
   "outputs": [
    {
     "data": {
      "text/plain": [
       "720"
      ]
     },
     "execution_count": 1,
     "metadata": {},
     "output_type": "execute_result"
    }
   ],
   "source": [
    ";; recursive process\n",
    ";;\n",
    ";; we need from the start to the end of the process to build a big sum\n",
    ";; which we reduce before returning the result, so a call like (factorial 4) \n",
    ";; will recurse until it produces the following calculation:\n",
    ";;\n",
    ";;     (* 4 (* 3 (* 2 1)))\n",
    "(define (factorial n)\n",
    "  (if (= n 1) \n",
    "      1\n",
    "      (* n (factorial (- n 1)))))\n",
    "\n",
    "(factorial 6)"
   ]
  },
  {
   "cell_type": "code",
   "execution_count": 2,
   "metadata": {
    "collapsed": false,
    "deletable": true,
    "editable": true
   },
   "outputs": [
    {
     "data": {
      "text/plain": [
       "720"
      ]
     },
     "execution_count": 2,
     "metadata": {},
     "output_type": "execute_result"
    }
   ],
   "source": [
    ";; iterative process\n",
    ";; \n",
    ";; note that even though the procedure itself is recursive, we call\n",
    ";; the process iterative - the state of the calculation is captured\n",
    ";; in the arguments to the \"fact-iter\" function, and can be cached\n",
    ";; or resumed to produce the desired result.\n",
    "\n",
    "(define (factorial n)\n",
    "  (fact-iter 1 1 n))\n",
    "\n",
    "(define (fact-iter product counter max-count)\n",
    "    (if (> counter max-count)\n",
    "        product\n",
    "        (fact-iter (* product counter) \n",
    "                   (+ counter 1) \n",
    "                   max-count)))\n",
    "\n",
    "(factorial 6)"
   ]
  }
 ],
 "metadata": {
  "kernelspec": {
   "display_name": "MIT Scheme",
   "language": "scheme",
   "name": "mit-scheme"
  },
  "language_info": {
   "codemirror_mode": "scheme",
   "file_extension": ".scm",
   "mimetype": "application/x-scheme",
   "name": "MIT Scheme",
   "pygments_lexer": "scheme",
   "version": "9.2.1"
  }
 },
 "nbformat": 4,
 "nbformat_minor": 2
}
